{
 "cells": [
  {
   "cell_type": "markdown",
   "metadata": {},
   "source": [
    "<img src=\"uc3m-logo.jpg\" alt=\"UC3M logo\" width=\"200\"/>"
   ]
  },
  {
   "cell_type": "markdown",
   "metadata": {},
   "source": [
    "# First Homework: Linear and Discrete Models (Topics 2, 3)\n",
    "## BsC in Data Science and Engineering - Optimization and Analytics (2022-2023)\n",
    "\n",
    "Author: Rodrigo Oliver Coimbra (NIA: 100451788)"
   ]
  },
  {
   "cell_type": "code",
   "execution_count": 1,
   "metadata": {},
   "outputs": [],
   "source": [
    "import numpy as np\n",
    "\n",
    "class Activity:\n",
    "    def __init__(self, name, start, end, normal_time, crash_time, normal_cost, crash_cost):\n",
    "        self.name = name\n",
    "        self.start = start\n",
    "        self.end = end\n",
    "        self.normal_time = normal_time\n",
    "        self.crash_time = crash_time\n",
    "        self.normal_cost = normal_cost\n",
    "        self.crash_cost = crash_cost\n",
    "        \n",
    "        if normal_cost == 0 or crash_time == 0:\n",
    "            self.C = 0\n",
    "        else:\n",
    "            self.C = int((crash_cost - normal_cost)/(normal_time - crash_time))\n",
    "\n",
    "def crange(char1, char2):\n",
    "    for char in range(ord(char1), ord(char2)):\n",
    "        yield chr(char)\n",
    "        \n",
    "# Incidence matrix (automatic form)\n",
    "def generateA (A,start_nodes,end_nodes):\n",
    "    count = 0\n",
    "    for i in zip(start_nodes,end_nodes):\n",
    "        A[i[0]][count] = 1\n",
    "        A[i[1]][count] = -1\n",
    "        count+=1\n"
   ]
  },
  {
   "cell_type": "code",
   "execution_count": 2,
   "metadata": {},
   "outputs": [
    {
     "name": "stdout",
     "output_type": "stream",
     "text": [
      "normal_time=[3, 5, 3, 1, 3, 4, 2, 3, 2, 0]\n",
      "activity_id={0: (0, 1), 1: (1, 2), 2: (1, 3), 3: (3, 4), 4: (2, 6), 5: (4, 5), 6: (3, 5), 7: (5, 6), 8: (6, 7), 9: (2, 4)}\n",
      "\n",
      "activity_dict={(1, 0): (0, 1), (2, 1): (1, 2), (3, 2): (1, 3), (4, 3): (3, 4), (4, 9): (2, 4), (5, 5): (4, 5), (5, 6): (3, 5), (6, 4): (2, 6), (6, 7): (5, 6), (7, 8): (6, 7)}\n"
     ]
    },
    {
     "data": {
      "text/plain": [
       "'\\n   01  12  13  34  26  45  35  56  67  24\\n[[ 1.  0.  0.  0.  0.  0.  0.  0.  0.  0.] # 0\\n [-1.  1.  1.  0.  0.  0.  0.  0.  0.  0.] # 1\\n [ 0. -1.  0.  0.  1.  0.  0.  0.  0.  1.] # 2\\n [ 0.  0. -1.  1.  0.  0.  1.  0.  0.  0.] # 3\\n [ 0.  0.  0. -1.  0.  1.  0.  0.  0. -1.] # 4\\n [ 0.  0.  0.  0.  0. -1. -1.  1.  0.  0.] # 5\\n [ 0.  0.  0.  0. -1.  0.  0. -1.  1.  0.] # 6\\n [ 0.  0.  0.  0.  0.  0.  0.  0. -1.  0.] # 7\\n'"
      ]
     },
     "execution_count": 2,
     "metadata": {},
     "output_type": "execute_result"
    }
   ],
   "source": [
    "activity_list = [Activity('A', 1, 2, 3, 2, 16_000, 18_000),\n",
    "               Activity('B', 2, 3, 5, 3, 20_000, 23_000),\n",
    "               Activity('C', 2, 4, 3, 2, 4_000, 8_000),\n",
    "               Activity('D', 4, 5, 1, 0.5, 1_000, 1_500),\n",
    "               Activity('E', 3, 7, 3, 1, 12_000, 17_000),\n",
    "               Activity('F', 5, 6, 4, 2, 20_000, 26_000),\n",
    "               Activity('G', 4, 6, 2, 1, 1_000, 1_800),\n",
    "               Activity('H', 6, 7, 3, 1, 1_200, 2_600),\n",
    "               Activity('I', 7, 8, 2, 1.5, 1_000, 1_400),\n",
    "               Activity('Dummy', 3, 5, 0, 0, 0, 0)\n",
    "                ]\n",
    "\n",
    "E = 8\n",
    "A = 10\n",
    "\n",
    "\n",
    "\n",
    "start_nodes = [(a.start-1) for a in activity_list]\n",
    "end_nodes = [(a.end-1) for a in activity_list]\n",
    "M = np.zeros((E, len(end_nodes)))\n",
    "generateA(M,start_nodes,end_nodes)\n",
    "\n",
    "#print(start_nodes)\n",
    "#print(end_nodes)\n",
    "#print(M)\n",
    "\n",
    "diff_time = [(a.normal_time - a.crash_time) for a in activity_list]\n",
    "c = [a.C for a in activity_list]\n",
    "#print([a.normal_time for a in activity_list])\n",
    "normal_time = [a.normal_time for a in activity_list]\n",
    "print(f\"{normal_time=}\")\n",
    "#print(diff_time)\n",
    "#print(c)\n",
    "\n",
    "activity_dict = {}\n",
    "\n",
    "activity_id = {}\n",
    "\n",
    "for i, e in enumerate(activity_list):\n",
    "   activity_id[i] = (e.start-1, e.end-1)\n",
    "\n",
    "print(f\"{activity_id=}\\n\") \n",
    "\n",
    "for i in range(E):\n",
    "   for j in range(A):\n",
    "      if M[i][j] == -1:\n",
    "         activity_dict[(i,j)] = activity_id[j]\n",
    "\n",
    "# With activity_dict we obtain the position\n",
    "# in the incidence matrix of each one of the\n",
    "# activities (arcs) in the format:\n",
    "# (i,j) = (a,b) where i,j are the rows/cols\n",
    "# of the incidence matrix\n",
    "print(f\"{activity_dict=}\")\n",
    "\n",
    "#print(len(activity_id))\n",
    "#print(len(activity_dict))\n",
    "\n",
    "\"\"\"\n",
    "   01  12  13  34  26  45  35  56  67  24\n",
    "[[ 1.  0.  0.  0.  0.  0.  0.  0.  0.  0.] # 0\n",
    " [-1.  1.  1.  0.  0.  0.  0.  0.  0.  0.] # 1\n",
    " [ 0. -1.  0.  0.  1.  0.  0.  0.  0.  1.] # 2\n",
    " [ 0.  0. -1.  1.  0.  0.  1.  0.  0.  0.] # 3\n",
    " [ 0.  0.  0. -1.  0.  1.  0.  0.  0. -1.] # 4\n",
    " [ 0.  0.  0.  0.  0. -1. -1.  1.  0.  0.] # 5\n",
    " [ 0.  0.  0.  0. -1.  0.  0. -1.  1.  0.] # 6\n",
    " [ 0.  0.  0.  0.  0.  0.  0.  0. -1.  0.] # 7\n",
    "\"\"\""
   ]
  },
  {
   "cell_type": "code",
   "execution_count": 3,
   "metadata": {},
   "outputs": [
    {
     "data": {
      "text/plain": [
       "'\\n# WITH DUPLICATES\\nfor r in activity_dict.items():\\n    \\n    print(f\"x{r[1][1]} >= n{r[1][0]}{r[1][1]} - y{r[1][0]}{r[1][1]} + x{r[1][0]}\")\\n    #print(r[0])\\n    #print(r[1])\\n'"
      ]
     },
     "execution_count": 3,
     "metadata": {},
     "output_type": "execute_result"
    }
   ],
   "source": [
    "\"\"\"\"\n",
    "for i, e in enumerate(M):\n",
    "    mem = []\n",
    "    for j, a in enumerate(e):\n",
    "        if a == 1:\n",
    "            if e not in mem:\n",
    "                mem.append(e)\n",
    "                print(f\"x[{i+1}] + y[{j}] - x[{j}] >= {normal_time[j]}\")\n",
    "\"\"\"\n",
    "\n",
    "\"\"\"\n",
    "r = activity_dict.items()\n",
    "for e in endpoint_list:\n",
    "    if endpoint_list.count(e) != 1:\n",
    "\"\"\"\n",
    "\n",
    "res = activity_dict\n",
    "\n",
    "\"\"\"\n",
    "# WITHOUT DUPLICATES\n",
    "temp = []\n",
    "res = dict()\n",
    "for key, val in activity_dict.items():\n",
    "    if val[1] not in temp:\n",
    "        temp.append(val[1])\n",
    "        res[key] = val\n",
    "        \n",
    "print(f\"{res=}\")\n",
    "print(f\"{len(res)=}\")\n",
    "print(f\"{len(activity_dict)=}\")\n",
    "\n",
    "for r in res.items():\n",
    "    \n",
    "    print(f\"x{r[1][1]} >= n{r[1][0]}{r[1][1]} - y{r[1][0]}{r[1][1]} + x{r[1][0]}\")\n",
    "    print(f\"x{r[1][1]} >= n{r[0][1]} - y{r[0][1]} + x{r[1][0]}\")\n",
    "    print()\n",
    "    #print(r[0])\n",
    "    #print(r[1])\n",
    "\n",
    "\"\"\"\n",
    "    \n",
    "    \n",
    "\"\"\"\n",
    "# WITH DUPLICATES\n",
    "for r in activity_dict.items():\n",
    "    \n",
    "    print(f\"x{r[1][1]} >= n{r[1][0]}{r[1][1]} - y{r[1][0]}{r[1][1]} + x{r[1][0]}\")\n",
    "    #print(r[0])\n",
    "    #print(r[1])\n",
    "\"\"\"\n",
    "\n"
   ]
  },
  {
   "cell_type": "code",
   "execution_count": 4,
   "metadata": {},
   "outputs": [
    {
     "name": "stdout",
     "output_type": "stream",
     "text": [
      "i : Size=1, Index=None, Ordered=Insertion\n",
      "    Key  : Dimen : Domain : Size : Members\n",
      "    None :     1 :    Any :    8 : {0, 1, 2, 3, 4, 5, 6, 7}\n",
      "j : Size=1, Index=None, Ordered=Insertion\n",
      "    Key  : Dimen : Domain : Size : Members\n",
      "    None :     1 :    Any :   10 : {0, 1, 2, 3, 4, 5, 6, 7, 8, 9}\n"
     ]
    }
   ],
   "source": [
    "from pyomo.environ import *\n",
    "\n",
    "model = ConcreteModel()\n",
    "\n",
    "event_labels = [e for e in range(E)]\n",
    "activity_labels = [a for a in range(A)]\n",
    "\n",
    "model.i = Set(initialize = event_labels)\n",
    "model.j = Set(initialize = activity_labels)\n",
    "\n",
    "model.i.pprint()\n",
    "model.j.pprint()"
   ]
  },
  {
   "cell_type": "code",
   "execution_count": 5,
   "metadata": {},
   "outputs": [
    {
     "name": "stdout",
     "output_type": "stream",
     "text": [
      "x : Size=8, Index=i\n",
      "    Key : Lower : Value : Upper : Fixed : Stale : Domain\n",
      "      0 :     0 :  None :  None : False :  True : NonNegativeReals\n",
      "      1 :     0 :  None :  None : False :  True : NonNegativeReals\n",
      "      2 :     0 :  None :  None : False :  True : NonNegativeReals\n",
      "      3 :     0 :  None :  None : False :  True : NonNegativeReals\n",
      "      4 :     0 :  None :  None : False :  True : NonNegativeReals\n",
      "      5 :     0 :  None :  None : False :  True : NonNegativeReals\n",
      "      6 :     0 :  None :  None : False :  True : NonNegativeReals\n",
      "      7 :     0 :  None :  None : False :  True : NonNegativeReals\n",
      "y : Size=10, Index=j\n",
      "    Key : Lower : Value : Upper : Fixed : Stale : Domain\n",
      "      0 :     0 :  None :  None : False :  True : NonNegativeReals\n",
      "      1 :     0 :  None :  None : False :  True : NonNegativeReals\n",
      "      2 :     0 :  None :  None : False :  True : NonNegativeReals\n",
      "      3 :     0 :  None :  None : False :  True : NonNegativeReals\n",
      "      4 :     0 :  None :  None : False :  True : NonNegativeReals\n",
      "      5 :     0 :  None :  None : False :  True : NonNegativeReals\n",
      "      6 :     0 :  None :  None : False :  True : NonNegativeReals\n",
      "      7 :     0 :  None :  None : False :  True : NonNegativeReals\n",
      "      8 :     0 :  None :  None : False :  True : NonNegativeReals\n",
      "      9 :     0 :  None :  None : False :  True : NonNegativeReals\n"
     ]
    }
   ],
   "source": [
    "model.x = Var(model.i, within = NonNegativeReals)\n",
    "model.y = Var(model.j, within = NonNegativeReals)\n",
    "\n",
    "model.x.pprint()\n",
    "model.y.pprint()"
   ]
  },
  {
   "cell_type": "code",
   "execution_count": 6,
   "metadata": {},
   "outputs": [
    {
     "name": "stdout",
     "output_type": "stream",
     "text": [
      "objective : Size=1, Index=None, Active=True\n",
      "    Key  : Active : Sense    : Expression\n",
      "    None :   True : minimize : 2000*y[0] + 1500*y[1] + 4000*y[2] + 1000*y[3] + 2500*y[4] + 3000*y[5] + 800*y[6] + 700*y[7] + 800*y[8]\n"
     ]
    }
   ],
   "source": [
    "#print(f\"{len(c)=}\")\n",
    "#print(f\"{len(model.y)=}\")\n",
    "\n",
    "def objective(model):\n",
    "    return sum(c[j]*model.y[j] for j in model.j)\n",
    "\n",
    "model.objective = Objective(rule=objective, sense=minimize)\n",
    "\n",
    "model.objective.pprint()"
   ]
  },
  {
   "cell_type": "code",
   "execution_count": 7,
   "metadata": {},
   "outputs": [
    {
     "name": "stdout",
     "output_type": "stream",
     "text": [
      "crash_time : Size=10, Index=j, Active=True\n",
      "    Key : Lower : Body : Upper : Active\n",
      "      0 :  -Inf : y[0] :   1.0 :   True\n",
      "      1 :  -Inf : y[1] :   2.0 :   True\n",
      "      2 :  -Inf : y[2] :   1.0 :   True\n",
      "      3 :  -Inf : y[3] :   0.5 :   True\n",
      "      4 :  -Inf : y[4] :   2.0 :   True\n",
      "      5 :  -Inf : y[5] :   2.0 :   True\n",
      "      6 :  -Inf : y[6] :   1.0 :   True\n",
      "      7 :  -Inf : y[7] :   2.0 :   True\n",
      "      8 :  -Inf : y[8] :   0.5 :   True\n",
      "      9 :  -Inf : y[9] :   0.0 :   True\n"
     ]
    }
   ],
   "source": [
    "##########################\n",
    "# CRASH TIME CONSTRAINTS #\n",
    "##########################\n",
    "def crash_time_constraints(model, j):\n",
    "    return model.y[j] <= diff_time[j]\n",
    "\n",
    "model.crash_time = Constraint(model.j, rule=crash_time_constraints)\n",
    "\n",
    "model.crash_time.pprint()\n"
   ]
  },
  {
   "cell_type": "code",
   "execution_count": 8,
   "metadata": {},
   "outputs": [],
   "source": [
    "#######################\n",
    "# NETWORK CONSTRAINTS #\n",
    "#######################\n",
    "def network_limit_constraints(model, constraintList):\n",
    "    constraintList.add(expr = model.x[0] == 0)\n",
    "    for k, v in res.items():\n",
    "        constraintList.add(expr = model.x[v[1]] + model.y[k[1]] - model.x[v[0]] >= normal_time[k[1]])\n",
    "    constraintList.add(expr = model.x[len(model.x)-1] <= 13)\n",
    "    constraintList.pprint()\n",
    "    return"
   ]
  },
  {
   "cell_type": "code",
   "execution_count": 9,
   "metadata": {},
   "outputs": [
    {
     "name": "stdout",
     "output_type": "stream",
     "text": [
      "network_constraints : Size=12, Index=network_constraints_index, Active=True\n",
      "    Key : Lower : Body               : Upper : Active\n",
      "      1 :   0.0 :               x[0] :   0.0 :   True\n",
      "      2 :   3.0 : x[1] + y[0] - x[0] :  +Inf :   True\n",
      "      3 :   5.0 : x[2] + y[1] - x[1] :  +Inf :   True\n",
      "      4 :   3.0 : x[3] + y[2] - x[1] :  +Inf :   True\n",
      "      5 :   1.0 : x[4] + y[3] - x[3] :  +Inf :   True\n",
      "      6 :   0.0 : x[4] + y[9] - x[2] :  +Inf :   True\n",
      "      7 :   4.0 : x[5] + y[5] - x[4] :  +Inf :   True\n",
      "      8 :   2.0 : x[5] + y[6] - x[3] :  +Inf :   True\n",
      "      9 :   3.0 : x[6] + y[4] - x[2] :  +Inf :   True\n",
      "     10 :   3.0 : x[6] + y[7] - x[5] :  +Inf :   True\n",
      "     11 :   2.0 : x[7] + y[8] - x[6] :  +Inf :   True\n",
      "     12 :  -Inf :               x[7] :  13.0 :   True\n"
     ]
    }
   ],
   "source": [
    "model.network_constraints = ConstraintList()\n",
    "network_limit_constraints(model, model.network_constraints)"
   ]
  },
  {
   "cell_type": "code",
   "execution_count": 10,
   "metadata": {},
   "outputs": [],
   "source": [
    "Solver = SolverFactory('gurobi')\n",
    "Results = Solver.solve(model)"
   ]
  },
  {
   "cell_type": "code",
   "execution_count": 11,
   "metadata": {},
   "outputs": [
    {
     "name": "stdout",
     "output_type": "stream",
     "text": [
      "x : Size=8, Index=i\n",
      "    Key : Lower : Value : Upper : Fixed : Stale : Domain\n",
      "      0 :     0 :   0.0 :  None : False : False : NonNegativeReals\n",
      "      1 :     0 :   2.5 :  None : False : False : NonNegativeReals\n",
      "      2 :     0 :   6.5 :  None : False : False : NonNegativeReals\n",
      "      3 :     0 :   5.5 :  None : False : False : NonNegativeReals\n",
      "      4 :     0 :   6.5 :  None : False : False : NonNegativeReals\n",
      "      5 :     0 :  10.5 :  None : False : False : NonNegativeReals\n",
      "      6 :     0 :  11.5 :  None : False : False : NonNegativeReals\n",
      "      7 :     0 :  13.0 :  None : False : False : NonNegativeReals\n"
     ]
    }
   ],
   "source": [
    "model.x.display()"
   ]
  },
  {
   "cell_type": "code",
   "execution_count": 12,
   "metadata": {},
   "outputs": [
    {
     "name": "stdout",
     "output_type": "stream",
     "text": [
      "y : Size=10, Index=j\n",
      "    Key : Lower : Value : Upper : Fixed : Stale : Domain\n",
      "      0 :     0 :   0.5 :  None : False : False : NonNegativeReals\n",
      "      1 :     0 :   1.0 :  None : False : False : NonNegativeReals\n",
      "      2 :     0 :   0.0 :  None : False : False : NonNegativeReals\n",
      "      3 :     0 :   0.0 :  None : False : False : NonNegativeReals\n",
      "      4 :     0 :   0.0 :  None : False : False : NonNegativeReals\n",
      "      5 :     0 :   0.0 :  None : False : False : NonNegativeReals\n",
      "      6 :     0 :   0.0 :  None : False : False : NonNegativeReals\n",
      "      7 :     0 :   2.0 :  None : False : False : NonNegativeReals\n",
      "      8 :     0 :   0.5 :  None : False : False : NonNegativeReals\n",
      "      9 :     0 :   0.0 :  None : False : False : NonNegativeReals\n"
     ]
    }
   ],
   "source": [
    "model.y.display()"
   ]
  },
  {
   "cell_type": "code",
   "execution_count": 13,
   "metadata": {},
   "outputs": [
    {
     "name": "stdout",
     "output_type": "stream",
     "text": [
      "Model unknown\n",
      "\n",
      "  Variables:\n",
      "    x : Size=8, Index=i\n",
      "        Key : Lower : Value : Upper : Fixed : Stale : Domain\n",
      "          0 :     0 :   0.0 :  None : False : False : NonNegativeReals\n",
      "          1 :     0 :   2.5 :  None : False : False : NonNegativeReals\n",
      "          2 :     0 :   6.5 :  None : False : False : NonNegativeReals\n",
      "          3 :     0 :   5.5 :  None : False : False : NonNegativeReals\n",
      "          4 :     0 :   6.5 :  None : False : False : NonNegativeReals\n",
      "          5 :     0 :  10.5 :  None : False : False : NonNegativeReals\n",
      "          6 :     0 :  11.5 :  None : False : False : NonNegativeReals\n",
      "          7 :     0 :  13.0 :  None : False : False : NonNegativeReals\n",
      "    y : Size=10, Index=j\n",
      "        Key : Lower : Value : Upper : Fixed : Stale : Domain\n",
      "          0 :     0 :   0.5 :  None : False : False : NonNegativeReals\n",
      "          1 :     0 :   1.0 :  None : False : False : NonNegativeReals\n",
      "          2 :     0 :   0.0 :  None : False : False : NonNegativeReals\n",
      "          3 :     0 :   0.0 :  None : False : False : NonNegativeReals\n",
      "          4 :     0 :   0.0 :  None : False : False : NonNegativeReals\n",
      "          5 :     0 :   0.0 :  None : False : False : NonNegativeReals\n",
      "          6 :     0 :   0.0 :  None : False : False : NonNegativeReals\n",
      "          7 :     0 :   2.0 :  None : False : False : NonNegativeReals\n",
      "          8 :     0 :   0.5 :  None : False : False : NonNegativeReals\n",
      "          9 :     0 :   0.0 :  None : False : False : NonNegativeReals\n",
      "\n",
      "  Objectives:\n",
      "    objective : Size=1, Index=None, Active=True\n",
      "        Key  : Active : Value\n",
      "        None :   True : 4300.0\n",
      "\n",
      "  Constraints:\n",
      "    crash_time : Size=10\n",
      "        Key : Lower : Body : Upper\n",
      "          0 :  None :  0.5 :   1.0\n",
      "          1 :  None :  1.0 :   2.0\n",
      "          2 :  None :  0.0 :   1.0\n",
      "          3 :  None :  0.0 :   0.5\n",
      "          4 :  None :  0.0 :   2.0\n",
      "          5 :  None :  0.0 :   2.0\n",
      "          6 :  None :  0.0 :   1.0\n",
      "          7 :  None :  2.0 :   2.0\n",
      "          8 :  None :  0.5 :   0.5\n",
      "          9 :  None :  0.0 :   0.0\n",
      "    network_constraints : Size=12\n",
      "        Key : Lower : Body : Upper\n",
      "          1 :   0.0 :  0.0 :   0.0\n",
      "          2 :   3.0 :  3.0 :  None\n",
      "          3 :   5.0 :  5.0 :  None\n",
      "          4 :   3.0 :  3.0 :  None\n",
      "          5 :   1.0 :  1.0 :  None\n",
      "          6 :   0.0 :  0.0 :  None\n",
      "          7 :   4.0 :  4.0 :  None\n",
      "          8 :   2.0 :  5.0 :  None\n",
      "          9 :   3.0 :  5.0 :  None\n",
      "         10 :   3.0 :  3.0 :  None\n",
      "         11 :   2.0 :  2.0 :  None\n",
      "         12 :  None : 13.0 :  13.0\n"
     ]
    }
   ],
   "source": [
    "model.display()"
   ]
  }
 ],
 "metadata": {
  "kernelspec": {
   "display_name": "Python 3.10.6 ('Optimization')",
   "language": "python",
   "name": "python3"
  },
  "language_info": {
   "codemirror_mode": {
    "name": "ipython",
    "version": 3
   },
   "file_extension": ".py",
   "mimetype": "text/x-python",
   "name": "python",
   "nbconvert_exporter": "python",
   "pygments_lexer": "ipython3",
   "version": "3.10.6"
  },
  "orig_nbformat": 4,
  "vscode": {
   "interpreter": {
    "hash": "a0854eb55a42fa7114ab583faf0ea91550204cf8598f4fab438ea0a31a8e4e75"
   }
  }
 },
 "nbformat": 4,
 "nbformat_minor": 2
}
