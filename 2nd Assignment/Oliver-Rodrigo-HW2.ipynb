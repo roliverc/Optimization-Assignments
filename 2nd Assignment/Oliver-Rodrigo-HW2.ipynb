{
 "cells": [
  {
   "cell_type": "markdown",
   "metadata": {},
   "source": [
    "<img src=\"uc3m-logo.jpg\" alt=\"UC3M logo\" width=\"200\"/>"
   ]
  },
  {
   "attachments": {},
   "cell_type": "markdown",
   "metadata": {},
   "source": [
    "# Second Homework: Network Optimization and Non-linear Models (Topics 2, 3)\n",
    "## BsC in Data Science and Engineering - Optimization and Analytics (2022-2023)\n",
    "\n",
    "Author: Rodrigo Oliver Coimbra (NIA: 100451788)"
   ]
  },
  {
   "attachments": {},
   "cell_type": "markdown",
   "metadata": {},
   "source": [
    "## 1. Introduction"
   ]
  },
  {
   "attachments": {},
   "cell_type": "markdown",
   "metadata": {},
   "source": [
    "## 2. Network optimization (with discrete variables) [Pyomo/Gurobi]"
   ]
  },
  {
   "attachments": {},
   "cell_type": "markdown",
   "metadata": {},
   "source": [
    "### 2.0 Model explanation "
   ]
  },
  {
   "attachments": {},
   "cell_type": "markdown",
   "metadata": {},
   "source": [
    "#### 2.0.0 General conditions (CPM/PERM)"
   ]
  },
  {
   "attachments": {},
   "cell_type": "markdown",
   "metadata": {},
   "source": [
    "#### 2.0.1 Specific conditions"
   ]
  },
  {
   "attachments": {},
   "cell_type": "markdown",
   "metadata": {},
   "source": [
    "### 2.1 Python implementation of network concepts"
   ]
  },
  {
   "cell_type": "code",
   "execution_count": 1,
   "metadata": {},
   "outputs": [],
   "source": [
    "# We import the libraries that are needed\n",
    "# for solving linear programming problems\n",
    "import pyomo.environ as pyo\n",
    "from pyomo.opt import SolverFactory\n",
    "\n",
    "# For better data manipulation\n",
    "# we import Numpy, the Numeric Python library\n",
    "import numpy as np\n",
    "\n",
    "# For performance analysis purposes\n",
    "from time import process_time\n",
    "\n",
    "# For saving the results returned by the solver\n",
    "from pandas import Series, DataFrame\n",
    "\n",
    "# For better code readability and maintanability\n",
    "from typing import Final, List, Dict\n",
    "from dataclasses import dataclass"
   ]
  },
  {
   "cell_type": "code",
   "execution_count": 2,
   "metadata": {},
   "outputs": [],
   "source": [
    "class Activity:\n",
    "    \"\"\"\n",
    "    This class defines the activities that make up the project to be crashed (optimized),\n",
    "    each activity has a name (to make it more human-readable), a start event, an end event,\n",
    "    a normal duration, a crashed duration, the normal cost that it represents and the cost\n",
    "    that crashing would entail.\n",
    "    \"\"\"\n",
    "    \n",
    "    def __init__(self, name: str, start: int, end: int, normal_time: int, crash_time: int, normal_cost: int, crash_cost: int):\n",
    "        self.name = name\n",
    "        self.start = start\n",
    "        self.end = end\n",
    "        self.normal_time = normal_time\n",
    "        self.crash_time = crash_time\n",
    "        self.normal_cost = normal_cost\n",
    "        self.crash_cost = crash_cost\n",
    "        \n",
    "        if normal_cost == 0 or crash_time == 0:\n",
    "            self.C = 0\n",
    "        else:\n",
    "            self.C = int((crash_cost - normal_cost)/(normal_time - crash_time))\n",
    "\n",
    "def generateA (A: np.ndarray, start_nodes: List[int], end_nodes: List[int]) -> None:\n",
    "    \"\"\"\n",
    "    This function takes an empty matrix A, a list of \n",
    "    starting nodes and a list of ending ones; it converts\n",
    "    it into an incidence matrix of the activities (arcs)\n",
    "    and events (nodes)\n",
    "    \"\"\"\n",
    "    \n",
    "    count = 0\n",
    "    for i in zip(start_nodes,end_nodes):\n",
    "        A[i[0]][count] = 1\n",
    "        A[i[1]][count] = -1\n",
    "        count+=1\n",
    "    \n",
    "    return\n",
    "\n",
    "def startNodes(alist: List[int]) -> List[int]:\n",
    "    \"\"\"Returns the list of starting events (nodes)\"\"\"\n",
    "    return [(a.start-1) for a in alist]\n",
    "\n",
    "def endNodes(alist: List[int]) -> List[int]:\n",
    "    \"\"\"Returns the list of ending events (nodes)\"\"\"\n",
    "    return [(a.end-1) for a in alist]\n",
    "\n",
    "def diffTime(alist: List[int]) -> List[int]:\n",
    "    \"\"\"Returns the time difference between\n",
    "    the normal duration and the crash one\"\"\"\n",
    "    return [(a.normal_time - a.crash_time) for a in alist]\n",
    "\n",
    "def cValues(alist: List[int]) -> List[int]:\n",
    "    \"\"\"Returns the cost-to-time ratio\"\"\"\n",
    "    return [a.C for a in alist]\n",
    "\n",
    "def normalTime(alist: List[int]) -> List[int]: \n",
    "    \"\"\"Returns the normal time duration by activity\"\"\"\n",
    "    return [a.normal_time for a in alist]\n",
    "\n",
    "def networkDict(alist: List[int], nodes: int, arcs: int, M: np.ndarray) -> Dict:\n",
    "    \"\"\"\n",
    "    Returns a dictionary containing the following information:\n",
    "    (i,j):(a,b) where (i,j) are the rows and columns of the incidence\n",
    "    matrix - respectively - and (a,b) represent the start and end\n",
    "    nodes of a give activity.\n",
    "    \"\"\"\n",
    "    \n",
    "    temp = {}\n",
    "    res = {}\n",
    "    for i, e in enumerate(alist):\n",
    "        temp[i] = (e.start-1, e.end-1)\n",
    "    for i in range(nodes):\n",
    "        for j in range(arcs):\n",
    "            if M[i][j] == -1:\n",
    "                res[(i,j)] = temp[j]\n",
    "    return res\n",
    "\n",
    "def uniqueEndNodes(alist: List[int]) -> int:\n",
    "    \"\"\"Returns a list of unique end nodes\"\"\"\n",
    "    return len(set(endNodes(alist)))\n",
    "\n",
    "def numberNodes(alist: List[int]) -> int:\n",
    "    \"\"\"Returns the number of unique nodes in the model\"\"\"\n",
    "    return len(set(endNodes(alist))) + 1"
   ]
  },
  {
   "attachments": {},
   "cell_type": "markdown",
   "metadata": {},
   "source": [
    "### 2.2 Data creation and manipulation"
   ]
  },
  {
   "cell_type": "code",
   "execution_count": 3,
   "metadata": {},
   "outputs": [
    {
     "name": "stdout",
     "output_type": "stream",
     "text": [
      "activity_dict={(1, 0): (0, 1), (2, 1): (1, 2), (3, 2): (1, 3), (4, 3): (3, 4), (4, 9): (2, 4), (5, 5): (4, 5), (5, 6): (3, 5), (6, 4): (2, 6), (6, 7): (5, 6), (7, 8): (6, 7)}\n"
     ]
    }
   ],
   "source": [
    "# We create the activity arcs between the\n",
    "# event nodes with all the necessary information\n",
    "\"\"\"\n",
    "activity_list = [\n",
    "    Activity('A', 0, 1, 5, 2, 1_000, 1_500),\n",
    "    Activity('B', 1, 2, 2, 1, 1_500, 2_000),\n",
    "    Activity('C', 2, 3, 10, 3, 5_500, 7_000),\n",
    "    Activity('D', 1, 4, 3, 1, 250, 500),\n",
    "    Activity('E', 4, 5, 7, 2, 400, 650),\n",
    "    Activity('F', 5, 6, 5, 1, 500, 750),\n",
    "    Activity('G', 5, 7, 6, 2, 700, 800),\n",
    "    Activity('H', 6, 8, 2, 1, 500, 900),\n",
    "    Activity('I', 7, 9, 3, 1, 100, 300),\n",
    "    Activity('J', 7, 10, 15, 4, 3_500, 5_500),\n",
    "    Activity('K', 8, 11, 12, 3, 3_000, 4_750),\n",
    "    Activity('L', 9, 11, 4, 1, 600, 800),\n",
    "    Activity('M', 10, 11, 8, 3, 1_000, 1_400),\n",
    "    Activity('N', 11, 12, 5, 2, 700, 1_000),\n",
    "    Activity('O', 11, 13, 10, 1, 2_800, 3_100),\n",
    "    Activity('P', 12, 14, 20, 3, 6_000, 6_900),\n",
    "    Activity('Q', 13, 18, 5, 2, 700, 800),\n",
    "    Activity('R', 13, 19, 2, 1, 300, 450),\n",
    "    Activity('S', 14, 15, 3, 1, 200, 300),\n",
    "    Activity('T', 14, 16, 15, 3, 4_000, 4_700),\n",
    "    Activity('U', 18, 20, 21, 5, 6_000, 8_500),\n",
    "    Activity('V', 19, 20, 30, 8, 10_500, 16_000),\n",
    "    Activity('W', 15, 17, 10, 3, 3_800, 4_000),\n",
    "    Activity('X', 17, 21, 3, 1, 200, 250),\n",
    "    Activity('Y', 3, 15, 2, 1, 3_000, 3_500),\n",
    "    Activity('Z', 16, 20, 5, 2, 1_500, 2_000),\n",
    "    Activity('Dummy 1', 3, 5, 0, 0, 0, 0),\n",
    "    Activity('Dummy 2', 20, 17, 0, 0, 0, 0)\n",
    "]\n",
    "\"\"\"\n",
    "activity_list = [Activity('A', 1, 2, 3, 2, 16_000, 18_000),\n",
    "               Activity('B', 2, 3, 5, 3, 20_000, 23_000),\n",
    "               Activity('C', 2, 4, 3, 2, 4_000, 8_000),\n",
    "               Activity('D', 4, 5, 1, 0.5, 1_000, 1_500),\n",
    "               Activity('E', 3, 7, 3, 1, 12_000, 17_000),\n",
    "               Activity('F', 5, 6, 4, 2, 20_000, 26_000),\n",
    "               Activity('G', 4, 6, 2, 1, 1_000, 1_800),\n",
    "               Activity('H', 6, 7, 3, 1, 1_200, 2_600),\n",
    "               Activity('I', 7, 8, 2, 1.5, 1_000, 1_400),\n",
    "               Activity('Dummy', 3, 5, 0, 0, 0, 0)\n",
    "                ]\n",
    "\n",
    "\n",
    "# Define three important constants:\n",
    "# the number of events (nodes); the number of\n",
    "# activities (arcs); and the deadline in days\n",
    "# of the project\n",
    "E: Final = numberNodes(activity_list)\n",
    "A: Final = len(activity_list)\n",
    "DEADLINE: Final = 13\n",
    "\n",
    "# Check that E and A are equal\n",
    "# to their theoretical value\n",
    "#assert E == 22\n",
    "#assert A == 28\n",
    "\n",
    "# Obtain two lists: one with the \n",
    "# starting nodes and another one\n",
    "# with the ending ones\n",
    "start_nodes = startNodes(activity_list)\n",
    "end_nodes = endNodes(activity_list)\n",
    "\n",
    "# Create a E times A incidence matrix\n",
    "# in this case it has 22*28 = 616 entries\n",
    "M = np.zeros((E, len(end_nodes)))\n",
    "generateA(M, start_nodes, end_nodes)\n",
    "\n",
    "# Check that M has the correct shape\n",
    "assert M.shape == (E, A)\n",
    "\n",
    "# Create a dictionary with all the necessary \n",
    "# information to implement the network constraints\n",
    "activity_dict = networkDict(activity_list, E, A, M)\n",
    "\n",
    "# Check that number of elements in the dictionary\n",
    "# correspond to the number of activities\n",
    "assert len(activity_dict) == A\n",
    "\n",
    "# Print the dictionary\n",
    "print(f\"{activity_dict=}\")"
   ]
  },
  {
   "attachments": {},
   "cell_type": "markdown",
   "metadata": {},
   "source": [
    "### 2.3 Network Linear Programming implementation"
   ]
  },
  {
   "attachments": {},
   "cell_type": "markdown",
   "metadata": {},
   "source": [
    "#### 2.3.1 Problem data definition: sets and parameters"
   ]
  },
  {
   "cell_type": "code",
   "execution_count": 4,
   "metadata": {},
   "outputs": [],
   "source": [
    "# We create the Pyomo model to be used\n",
    "network_model = pyo.ConcreteModel()\n",
    "\n",
    "# Create two lists: one for the event labels\n",
    "# and another one for the activities labels\n",
    "# to be used a Sets for the model\n",
    "event_labels = [e for e in range(E)]\n",
    "activity_labels = [a for a in range(A)]\n",
    "\n",
    "# Initialize both of these lists to the model,\n",
    "# with the events corresponding to the i dimension\n",
    "# and the activities corresponding to the j dimension\n",
    "network_model.i = pyo.Set(initialize=event_labels)\n",
    "network_model.j = pyo.Set(initialize=activity_labels)\n",
    "\n",
    "# Fetch the c values for all activities in the model\n",
    "c = cValues(activity_list)\n",
    "# Initialize these values into the model as parameters\n",
    "network_model.costs = pyo.Param(network_model.j, initialize=c, doc=\"Cost in monetary units per activity per time unit\")\n",
    "\n",
    "# Fetch the normal time values for all activities in the model\n",
    "normal_time = normalTime(activity_list)\n",
    "# Initialize these values into the model as parameters\n",
    "network_model.normaltime = pyo.Param(network_model.j, initialize=normal_time, doc=\"Normal time in days for the completion of a given activity\")\n",
    "\n",
    "# Fetch the difference between normal and crashed times\n",
    "# for all activities in the model\n",
    "diff_time = diffTime(activity_list)\n",
    "# Initialize these values into the model as parameters\n",
    "network_model.timediff = pyo.Param(network_model.j, initialize=diff_time, doc=\"Time difference in days between the normal time and the crash time\")"
   ]
  },
  {
   "attachments": {},
   "cell_type": "markdown",
   "metadata": {},
   "source": [
    "#### 2.3.2 Define the variables"
   ]
  },
  {
   "cell_type": "code",
   "execution_count": 5,
   "metadata": {},
   "outputs": [
    {
     "name": "stdout",
     "output_type": "stream",
     "text": [
      "x : Size=8, Index=i\n",
      "    Key : Lower : Value : Upper : Fixed : Stale : Domain\n",
      "      0 :     0 :  None :  None : False :  True : NonNegativeReals\n",
      "      1 :     0 :  None :  None : False :  True : NonNegativeReals\n",
      "      2 :     0 :  None :  None : False :  True : NonNegativeReals\n",
      "      3 :     0 :  None :  None : False :  True : NonNegativeReals\n",
      "      4 :     0 :  None :  None : False :  True : NonNegativeReals\n",
      "      5 :     0 :  None :  None : False :  True : NonNegativeReals\n",
      "      6 :     0 :  None :  None : False :  True : NonNegativeReals\n",
      "      7 :     0 :  None :  None : False :  True : NonNegativeReals\n",
      "y : Size=10, Index=j\n",
      "    Key : Lower : Value : Upper : Fixed : Stale : Domain\n",
      "      0 :     0 :  None :  None : False :  True : NonNegativeReals\n",
      "      1 :     0 :  None :  None : False :  True : NonNegativeReals\n",
      "      2 :     0 :  None :  None : False :  True : NonNegativeReals\n",
      "      3 :     0 :  None :  None : False :  True : NonNegativeReals\n",
      "      4 :     0 :  None :  None : False :  True : NonNegativeReals\n",
      "      5 :     0 :  None :  None : False :  True : NonNegativeReals\n",
      "      6 :     0 :  None :  None : False :  True : NonNegativeReals\n",
      "      7 :     0 :  None :  None : False :  True : NonNegativeReals\n",
      "      8 :     0 :  None :  None : False :  True : NonNegativeReals\n",
      "      9 :     0 :  None :  None : False :  True : NonNegativeReals\n"
     ]
    }
   ],
   "source": [
    "# Define and add to the model the x and y variables,\n",
    "# living in the i and j dimensions, respectively\n",
    "network_model.x = pyo.Var(network_model.i, within=pyo.NonNegativeReals)\n",
    "network_model.y = pyo.Var(network_model.j, within=pyo.NonNegativeReals)\n",
    "\n",
    "# Print the variables that were generated\n",
    "network_model.x.pprint()\n",
    "network_model.y.pprint()"
   ]
  },
  {
   "attachments": {},
   "cell_type": "markdown",
   "metadata": {},
   "source": [
    "#### 2.3.3 Define the objective function"
   ]
  },
  {
   "cell_type": "code",
   "execution_count": 6,
   "metadata": {},
   "outputs": [
    {
     "name": "stdout",
     "output_type": "stream",
     "text": [
      "objective : Size=1, Index=None, Active=True\n",
      "    Key  : Active : Sense    : Expression\n",
      "    None :   True : minimize : 2000*y[0] + 1500*y[1] + 4000*y[2] + 1000*y[3] + 2500*y[4] + 3000*y[5] + 800*y[6] + 700*y[7] + 800*y[8]\n"
     ]
    }
   ],
   "source": [
    "def n_objective(n_model: pyo.ConcreteModel) -> bool:\n",
    "    \"\"\"\n",
    "    The objective function is given by the minimization of the sum\n",
    "    of the unit crashing cost times the crashing time units over \n",
    "    all the model activities\n",
    "    \"\"\"\n",
    "    \n",
    "    return sum(n_model.costs[j]*n_model.y[j] for j in n_model.j)\n",
    "\n",
    "# Add the objective function rule into the model\n",
    "# Even though Pyomo by default performs minimization\n",
    "# it is marked explicitly here\n",
    "network_model.objective = pyo.Objective(rule=n_objective, sense=pyo.minimize)\n",
    "\n",
    "\n",
    "# Print the objective function\n",
    "network_model.objective.pprint()"
   ]
  },
  {
   "attachments": {},
   "cell_type": "markdown",
   "metadata": {},
   "source": [
    "#### 2.3.4 Define the constraints"
   ]
  },
  {
   "cell_type": "code",
   "execution_count": 7,
   "metadata": {},
   "outputs": [
    {
     "name": "stdout",
     "output_type": "stream",
     "text": [
      "crash_time : Size=10, Index=j, Active=True\n",
      "    Key : Lower : Body : Upper : Active\n",
      "      0 :  -Inf : y[0] :   1.0 :   True\n",
      "      1 :  -Inf : y[1] :   2.0 :   True\n",
      "      2 :  -Inf : y[2] :   1.0 :   True\n",
      "      3 :  -Inf : y[3] :   0.5 :   True\n",
      "      4 :  -Inf : y[4] :   2.0 :   True\n",
      "      5 :  -Inf : y[5] :   2.0 :   True\n",
      "      6 :  -Inf : y[6] :   1.0 :   True\n",
      "      7 :  -Inf : y[7] :   2.0 :   True\n",
      "      8 :  -Inf : y[8] :   0.5 :   True\n",
      "      9 :  -Inf : y[9] :   0.0 :   True\n"
     ]
    }
   ],
   "source": [
    "##########################\n",
    "# CRASH TIME CONSTRAINTS #\n",
    "##########################\n",
    "\n",
    "def crash_time_constraints(n_model: pyo.ConcreteModel, j: int) -> bool:\n",
    "    \"\"\"Crash time constraints establish that the crash time\n",
    "    for a given activity j must be lesser or equal to the difference\n",
    "    between the normal and crashed times for that activity\n",
    "    \"\"\"\n",
    "    \n",
    "    return n_model.y[j] <= n_model.timediff[j]\n",
    "\n",
    "# Add the crash time constraint into the model\n",
    "network_model.crash_time = pyo.Constraint(network_model.j, rule=crash_time_constraints)\n",
    "# Print the crash time constraints\n",
    "network_model.crash_time.pprint()\n"
   ]
  },
  {
   "cell_type": "code",
   "execution_count": 8,
   "metadata": {},
   "outputs": [],
   "source": [
    "#######################\n",
    "# NETWORK CONSTRAINTS #\n",
    "#######################\n",
    "\n",
    "def network_limit_constraints(n_model: pyo.ConcreteModel, a_dict: dict, constraintList: pyo.ConstraintList) -> None:\n",
    "    \"\"\"\n",
    "    Network limit constraints establish that the time where a certain event i (node i)\n",
    "    is reached (with respect with the initial even time of 0) is always greater or equal to\n",
    "    the result of the normal duration of activity j that is related with the occurrence of \n",
    "    the event, minus the crashing time of the said activity j plus the occurrence time of\n",
    "    the predecessor event k (node k) where the activity j originates from\n",
    "    \"\"\"\n",
    "    # Rearanging the terms of the expression described above and using the\n",
    "    # information provided by the problem dictionary\n",
    "    for k, v in a_dict.items():\n",
    "        constraintList.add(expr = n_model.x[v[1]] + n_model.y[k[1]] - n_model.x[v[0]] >= n_model.normaltime[k[1]])\n",
    "    constraintList.pprint()\n",
    "    return"
   ]
  },
  {
   "cell_type": "code",
   "execution_count": 9,
   "metadata": {},
   "outputs": [
    {
     "name": "stdout",
     "output_type": "stream",
     "text": [
      "network_constraints : Size=10, Index=network_constraints_index, Active=True\n",
      "    Key : Lower : Body               : Upper : Active\n",
      "      1 :   3.0 : x[1] + y[0] - x[0] :  +Inf :   True\n",
      "      2 :   5.0 : x[2] + y[1] - x[1] :  +Inf :   True\n",
      "      3 :   3.0 : x[3] + y[2] - x[1] :  +Inf :   True\n",
      "      4 :   1.0 : x[4] + y[3] - x[3] :  +Inf :   True\n",
      "      5 :   0.0 : x[4] + y[9] - x[2] :  +Inf :   True\n",
      "      6 :   4.0 : x[5] + y[5] - x[4] :  +Inf :   True\n",
      "      7 :   2.0 : x[5] + y[6] - x[3] :  +Inf :   True\n",
      "      8 :   3.0 : x[6] + y[4] - x[2] :  +Inf :   True\n",
      "      9 :   3.0 : x[6] + y[7] - x[5] :  +Inf :   True\n",
      "     10 :   2.0 : x[7] + y[8] - x[6] :  +Inf :   True\n"
     ]
    }
   ],
   "source": [
    "# Create the constraint list\n",
    "network_model.network_constraints = pyo.ConstraintList()\n",
    "# Add the network inherent constraint list to the model\n",
    "network_limit_constraints(network_model, activity_dict, network_model.network_constraints)"
   ]
  },
  {
   "cell_type": "code",
   "execution_count": 10,
   "metadata": {},
   "outputs": [],
   "source": [
    "##################################\n",
    "# PROJECT COMPLETION CONSTRAINTS #\n",
    "##################################\n",
    "def project_completion_constraints(n_model: pyo.ConcreteModel, a_dict: dict, constraintList: pyo.ConstraintList) -> None:\n",
    "    \"\"\"\n",
    "    Project completion constraints establish that the time occurence of the initial event\n",
    "    is equal to 0 and that the conclusion date of the project must be lesser or equal\n",
    "    than the deadline that is specified\n",
    "    \"\"\"\n",
    "    # The start of the project is at time t=0\n",
    "    constraintList.add(expr = n_model.x[0] == 0)\n",
    "    # The project must have been completed by the deadline that is specified\n",
    "    constraintList.add(expr = n_model.x[len(n_model.x)-1] <= DEADLINE)\n",
    "    # We print these constraint after being added to the model\n",
    "    constraintList.pprint()\n",
    "    return"
   ]
  },
  {
   "cell_type": "code",
   "execution_count": 11,
   "metadata": {},
   "outputs": [
    {
     "name": "stdout",
     "output_type": "stream",
     "text": [
      "completion_constraints : Size=2, Index=completion_constraints_index, Active=True\n",
      "    Key : Lower : Body : Upper : Active\n",
      "      1 :   0.0 : x[0] :   0.0 :   True\n",
      "      2 :  -Inf : x[7] :  13.0 :   True\n"
     ]
    }
   ],
   "source": [
    "# We define the list for project completion constraints\n",
    "network_model.completion_constraints = pyo.ConstraintList()\n",
    "\n",
    "# We call the function project completion constraints\n",
    "# and add these constraints to the  model\n",
    "project_completion_constraints(network_model, activity_dict, network_model.completion_constraints)"
   ]
  },
  {
   "attachments": {},
   "cell_type": "markdown",
   "metadata": {},
   "source": [
    "#### 2.3.5 Solve the linear programming model"
   ]
  },
  {
   "cell_type": "code",
   "execution_count": 12,
   "metadata": {},
   "outputs": [],
   "source": [
    "# We import using pyo.Suffix to later\n",
    "# perform a sensitivities analysis\n",
    "network_model.dual = pyo.Suffix(direction=pyo.Suffix.IMPORT)\n",
    "\n",
    "# We use the LP Gurobi solver\n",
    "# to find the optimal solution\n",
    "Solver = SolverFactory('gurobi')\n",
    "Results = Solver.solve(network_model)"
   ]
  },
  {
   "attachments": {},
   "cell_type": "markdown",
   "metadata": {},
   "source": [
    "#### 2.3.6 Interpret the network linear programming model results"
   ]
  },
  {
   "cell_type": "code",
   "execution_count": 13,
   "metadata": {},
   "outputs": [
    {
     "name": "stdout",
     "output_type": "stream",
     "text": [
      "Model unknown\n",
      "\n",
      "  Variables:\n",
      "    x : Size=8, Index=i\n",
      "        Key : Lower : Value : Upper : Fixed : Stale : Domain\n",
      "          0 :     0 :   0.0 :  None : False : False : NonNegativeReals\n",
      "          1 :     0 :   2.5 :  None : False : False : NonNegativeReals\n",
      "          2 :     0 :   6.5 :  None : False : False : NonNegativeReals\n",
      "          3 :     0 :   5.5 :  None : False : False : NonNegativeReals\n",
      "          4 :     0 :   6.5 :  None : False : False : NonNegativeReals\n",
      "          5 :     0 :  10.5 :  None : False : False : NonNegativeReals\n",
      "          6 :     0 :  11.5 :  None : False : False : NonNegativeReals\n",
      "          7 :     0 :  13.0 :  None : False : False : NonNegativeReals\n",
      "    y : Size=10, Index=j\n",
      "        Key : Lower : Value : Upper : Fixed : Stale : Domain\n",
      "          0 :     0 :   0.5 :  None : False : False : NonNegativeReals\n",
      "          1 :     0 :   1.0 :  None : False : False : NonNegativeReals\n",
      "          2 :     0 :   0.0 :  None : False : False : NonNegativeReals\n",
      "          3 :     0 :   0.0 :  None : False : False : NonNegativeReals\n",
      "          4 :     0 :   0.0 :  None : False : False : NonNegativeReals\n",
      "          5 :     0 :   0.0 :  None : False : False : NonNegativeReals\n",
      "          6 :     0 :   0.0 :  None : False : False : NonNegativeReals\n",
      "          7 :     0 :   2.0 :  None : False : False : NonNegativeReals\n",
      "          8 :     0 :   0.5 :  None : False : False : NonNegativeReals\n",
      "          9 :     0 :   0.0 :  None : False : False : NonNegativeReals\n",
      "\n",
      "  Objectives:\n",
      "    objective : Size=1, Index=None, Active=True\n",
      "        Key  : Active : Value\n",
      "        None :   True : 4300.0\n",
      "\n",
      "  Constraints:\n",
      "    crash_time : Size=10\n",
      "        Key : Lower : Body : Upper\n",
      "          0 :  None :  0.5 :   1.0\n",
      "          1 :  None :  1.0 :   2.0\n",
      "          2 :  None :  0.0 :   1.0\n",
      "          3 :  None :  0.0 :   0.5\n",
      "          4 :  None :  0.0 :   2.0\n",
      "          5 :  None :  0.0 :   2.0\n",
      "          6 :  None :  0.0 :   1.0\n",
      "          7 :  None :  2.0 :   2.0\n",
      "          8 :  None :  0.5 :   0.5\n",
      "          9 :  None :  0.0 :   0.0\n",
      "    network_constraints : Size=10\n",
      "        Key : Lower : Body : Upper\n",
      "          1 :   3.0 :  3.0 :  None\n",
      "          2 :   5.0 :  5.0 :  None\n",
      "          3 :   3.0 :  3.0 :  None\n",
      "          4 :   1.0 :  1.0 :  None\n",
      "          5 :   0.0 :  0.0 :  None\n",
      "          6 :   4.0 :  4.0 :  None\n",
      "          7 :   2.0 :  5.0 :  None\n",
      "          8 :   3.0 :  5.0 :  None\n",
      "          9 :   3.0 :  3.0 :  None\n",
      "         10 :   2.0 :  2.0 :  None\n",
      "    completion_constraints : Size=2\n",
      "        Key : Lower : Body : Upper\n",
      "          1 :   0.0 :  0.0 :   0.0\n",
      "          2 :  None : 13.0 :  13.0\n"
     ]
    }
   ],
   "source": [
    "# Display the solution for problem\n",
    "network_model.display()"
   ]
  },
  {
   "attachments": {},
   "cell_type": "markdown",
   "metadata": {},
   "source": [
    "#### 2.3.7 Sensitivies and their interpretation"
   ]
  }
 ],
 "metadata": {
  "kernelspec": {
   "display_name": "Optimization",
   "language": "python",
   "name": "python3"
  },
  "language_info": {
   "codemirror_mode": {
    "name": "ipython",
    "version": 3
   },
   "file_extension": ".py",
   "mimetype": "text/x-python",
   "name": "python",
   "nbconvert_exporter": "python",
   "pygments_lexer": "ipython3",
   "version": "3.10.6"
  },
  "orig_nbformat": 4,
  "vscode": {
   "interpreter": {
    "hash": "a0854eb55a42fa7114ab583faf0ea91550204cf8598f4fab438ea0a31a8e4e75"
   }
  }
 },
 "nbformat": 4,
 "nbformat_minor": 2
}
