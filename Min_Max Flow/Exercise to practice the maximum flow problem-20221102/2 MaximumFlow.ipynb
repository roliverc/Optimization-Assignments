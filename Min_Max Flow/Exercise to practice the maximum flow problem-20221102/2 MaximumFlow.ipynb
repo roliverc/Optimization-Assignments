{
 "cells": [
  {
   "cell_type": "markdown",
   "metadata": {},
   "source": [
    "![uc3m](uc3m.jpg)"
   ]
  },
  {
   "cell_type": "markdown",
   "metadata": {},
   "source": [
    "# The maximum flow problem\n",
    "\n",
    "<a href=\"http://www.est.uc3m.es/nogales\" target=\"_blank\">Javier Nogales</a>\n",
    "\n",
    "## Summary\n",
    "\n",
    "Model in Pyomo the maximum flow problem in the Google OR-Tools: https://developers.google.com/optimization/flow/maxflow\n",
    "\n",
    "![uc3m](maxflow.png)\n",
    "\n",
    "\n",
    "\n",
    "\n",
    "    \n",
    "\n"
   ]
  },
  {
   "cell_type": "markdown",
   "metadata": {},
   "source": [
    "## Formulation with Pyomo\n",
    "\n"
   ]
  },
  {
   "cell_type": "markdown",
   "metadata": {},
   "source": [
    "### The data\n",
    "\n"
   ]
  },
  {
   "cell_type": "code",
   "execution_count": 1,
   "metadata": {},
   "outputs": [
    {
     "name": "stdout",
     "output_type": "stream",
     "text": [
      "Overwriting maxflow.dat\n"
     ]
    }
   ],
   "source": [
    "%%writefile maxflow.dat\n",
    "set N := node0 node1 node2 node3 node4;\n",
    "set A := (node0,node1) (node0,node2) (node0,node3) (node1,node2) (node1,node4) (node2,node3) (node2,node4) (node3,node2) (node3,node4);\n",
    "    \n",
    "param source := node0;\n",
    "param sink := node4;\n",
    "param: capacity :=\n",
    "node0 node1 20\n",
    "node0 node2 30\n",
    "node0 node3 10\n",
    "node1 node2 40\n",
    "node1 node4 30\n",
    "node2 node3 10\n",
    "node2 node4 20\n",
    "node3 node2 5\n",
    "node3 node4 20;"
   ]
  },
  {
   "cell_type": "markdown",
   "metadata": {},
   "source": [
    "### The model\n",
    "\n"
   ]
  },
  {
   "cell_type": "code",
   "execution_count": 2,
   "metadata": {},
   "outputs": [
    {
     "name": "stdout",
     "output_type": "stream",
     "text": [
      "Overwriting maxflow.py\n"
     ]
    }
   ],
   "source": [
    "%%writefile maxflow.py\n",
    "\n",
    "from pyomo.environ import *\n",
    "\n",
    "model = AbstractModel()\n",
    "\n",
    "## Nodes in the network\n",
    "model.N = Set() # there are 5 (0,1,2,3,4)\n",
    "## Network arcs\n",
    "model.A = Set(within = model.N*model.N)  # there are 9 \n",
    "    # Set this limit since we cannot have more than one arc between two nodes (at most one arc from node i to node j) (there are no loops)\n",
    "    # It defines expected properties\n",
    "\n",
    "## Source node\n",
    "model.source = Param(within = model.N) # it is node 0 (according to the statement)\n",
    "## Sink node \n",
    "model.sink = Param(within = model.N) # it is node 4 (according to the statement)\n",
    "## Flow capacity limits\n",
    "model.capacity = Param(model.A) # we cannot exceed these flow capacity limits\n",
    "\n",
    "#############################\n",
    "# 'Define decision variables'\n",
    "#############################\n",
    "# The flow over each arc\n",
    "# Number of decision variables = number of arcs. In our case, we have 9 arcs. This means that we have 9 decision variables (x01,x02,x03,x12,x14,x23,x24,x32,x34)\n",
    "# model.A contains all arcs in an ordered way\n",
    "model.flow = Var(model.A) \n",
    "\n",
    "#############################\n",
    "#  'Objective'\n",
    "#############################\n",
    "# Maximize the flow into the sink node\n",
    "def obj(model):\n",
    "    return sum(model.flow[i,j] for (i,j) in model.A if j == value(model.sink))\n",
    "\n",
    "#############################\n",
    "# 'Constraints'\n",
    "#############################\n",
    "\n",
    "def upper_limit(model, i, j):\n",
    "    return model.flow[i,j] <= model.capacity[i,j]\n",
    "\n",
    "def total_flow_rule(model, k):\n",
    "    # we define a list with both the inflow and the outflow\n",
    "    flows = [\n",
    "        sum(model.flow[i,j] for (i,j) in model.A if j == k), # inflow\n",
    "        sum(model.flow[i,j] for (i,j) in model.A if i == k), # outflow\n",
    "        ]\n",
    "\n",
    "    # we define a list with the boolean values between k (model.N)\n",
    "    # and the value of both the source and the sink\n",
    "    checks = [k == value(model.source), k == value(model.sink)]\n",
    "\n",
    "    # we check if one of them is false\n",
    "    if any(checks):\n",
    "        return Constraint.Skip\n",
    "\n",
    "    # we return the Boolean value comparing\n",
    "    # the result of the inflow and outflow summations\n",
    "    return (flows[0] == flows[1])\n",
    "\n",
    "########## ADDING TO THE MODEL #################\n",
    "\n",
    "# Add the objective function to the model\n",
    "model.objective = Objective(rule=obj, sense=maximize)\n",
    "\n",
    "# Add the constraints to the model\n",
    "model.upper_limit = Constraint(model.A, rule=upper_limit)\n",
    "model.total_flow = Constraint(model.N, rule=total_flow_rule)"
   ]
  },
  {
   "cell_type": "markdown",
   "metadata": {},
   "source": [
    "### Obtain the solution"
   ]
  },
  {
   "cell_type": "code",
   "execution_count": 3,
   "metadata": {},
   "outputs": [
    {
     "name": "stdout",
     "output_type": "stream",
     "text": [
      "[    0.00] Setting up Pyomo environment\n",
      "[    0.00] Applying Pyomo preprocessing actions\n",
      "[    0.10] Creating model\n",
      "[    0.11] Applying solver\n",
      "[    0.33] Processing results\n",
      "    Number of solutions: 1\n",
      "    Solution Information\n",
      "      Gap: 0.0\n",
      "      Status: optimal\n",
      "      Function Value: 60.0\n",
      "    Solver results file: results.yml\n",
      "[    0.33] Applying Pyomo postprocessing actions\n",
      "[    0.33] Pyomo Finished\n"
     ]
    },
    {
     "name": "stderr",
     "output_type": "stream",
     "text": [
      "errorcode: 0\n",
      "retval:\n",
      "    instance: <pyomo.core.base.PyomoModel.ConcreteModel object at 0x00000186648C7920>\n",
      "    local:\n",
      "        time_initial_import: 0.09903740882873535\n",
      "        usermodel: <module 'maxflow' from 'd:\\\\UC3M\\\\3rd year\\\\Optimization and Analytics\\\\Assignments\\\\Optimization-Assignments\\\\Min_Max Flow\\\\Exercise to practice the maximum flow problem-20221102\\\\maxflow.py'>\n",
      "    options: <pyomo.common.config.ConfigDict object at 0x0000018667ABAFC0>\n",
      "    results: {'Problem': [{'Name': 'x10', 'Lower bound': 60.0, 'Upper bound': 60.0, 'Number of objectives': 1, 'Number of constraints': 13, 'Number of variables': 10, 'Number of binary variables': 0, 'Number of integer variables': 0, 'Number of continuous variables': 10, 'Number of nonzeros': 22, 'Sense': 'maximize'}], 'Solver': [{'Status': 'ok', 'Return code': '0', 'Message': 'Model was solved to optimality (subject to tolerances), and an optimal solution is available.', 'Termination condition': 'optimal', 'Termination message': 'Model was solved to optimality (subject to tolerances), and an optimal solution is available.', 'Wall time': '0.0010013580322265625', 'Error rc': 0, 'Time': 0.17507266998291016}], 'Solution': [OrderedDict([('number of solutions', 1), ('number of solutions displayed', 1)]), {'Gap': 0.0, 'Status': 'optimal', 'Message': 'Model was solved to optimality (subject to tolerances), and an optimal solution is available.', 'Problem': {}, 'Objective': {'objective': {'Value': 60.0}}, 'Variable': {'flow[node0,node1]': {'Value': 20.0}, 'flow[node0,node2]': {'Value': 30.0}, 'flow[node0,node3]': {'Value': 10.0}, 'flow[node1,node2]': {'Value': 0.0}, 'flow[node1,node4]': {'Value': 20.0}, 'flow[node2,node3]': {'Value': 10.0}, 'flow[node2,node4]': {'Value': 20.0}, 'flow[node3,node2]': {'Value': 0.0}, 'flow[node3,node4]': {'Value': 20.0}}, 'Constraint': {}}]}\n"
     ]
    }
   ],
   "source": [
    "!pyomo solve --solver=gurobi maxflow.py maxflow.dat"
   ]
  },
  {
   "cell_type": "code",
   "execution_count": 4,
   "metadata": {},
   "outputs": [
    {
     "name": "stdout",
     "output_type": "stream",
     "text": [
      "# ==========================================================\n",
      "# = Solver Results                                         =\n",
      "# ==========================================================\n",
      "# ----------------------------------------------------------\n",
      "#   Problem Information\n",
      "# ----------------------------------------------------------\n",
      "Problem: \n",
      "- Name: x10\n",
      "  Lower bound: 60.0\n",
      "  Upper bound: 60.0\n",
      "  Number of objectives: 1\n",
      "  Number of constraints: 13\n",
      "  Number of variables: 10\n",
      "  Number of binary variables: 0\n",
      "  Number of integer variables: 0\n",
      "  Number of continuous variables: 10\n",
      "  Number of nonzeros: 22\n",
      "  Sense: maximize\n",
      "# ----------------------------------------------------------\n",
      "#   Solver Information\n",
      "# ----------------------------------------------------------\n",
      "Solver: \n",
      "- Status: ok\n",
      "  Return code: 0\n",
      "  Message: Model was solved to optimality (subject to tolerances), and an optimal solution is available.\n",
      "  Termination condition: optimal\n",
      "  Termination message: Model was solved to optimality (subject to tolerances), and an optimal solution is available.\n",
      "  Wall time: 0.0010013580322265625\n",
      "  Error rc: 0\n",
      "  Time: 0.17507266998291016\n",
      "# ----------------------------------------------------------\n",
      "#   Solution Information\n",
      "# ----------------------------------------------------------\n",
      "Solution: \n",
      "- number of solutions: 1\n",
      "  number of solutions displayed: 1\n",
      "- Gap: 0.0\n",
      "  Status: optimal\n",
      "  Message: Model was solved to optimality (subject to tolerances), and an optimal solution is available.\n",
      "  Objective:\n",
      "    objective:\n",
      "      Value: 60\n",
      "  Variable:\n",
      "    flow[node0,node1]:\n",
      "      Value: 20\n",
      "    flow[node0,node2]:\n",
      "      Value: 30\n",
      "    flow[node0,node3]:\n",
      "      Value: 10\n",
      "    flow[node1,node4]:\n",
      "      Value: 20\n",
      "    flow[node2,node3]:\n",
      "      Value: 10\n",
      "    flow[node2,node4]:\n",
      "      Value: 20\n",
      "    flow[node3,node4]:\n",
      "      Value: 20\n",
      "  Constraint: No values\n"
     ]
    }
   ],
   "source": [
    "# Display\n",
    "# !cat results.yml for Unix-like operating system\n",
    "# !type for Windows and DOS systems (cmd)\n",
    "!type results.yml"
   ]
  },
  {
   "cell_type": "code",
   "execution_count": 5,
   "metadata": {},
   "outputs": [
    {
     "name": "stdout",
     "output_type": "stream",
     "text": [
      "20\n",
      "30\n",
      "10\n",
      "20\n",
      "10\n",
      "20\n",
      "20\n"
     ]
    }
   ],
   "source": [
    "import yaml\n",
    "with open('results.yml') as f:\n",
    "    doc = yaml.load(f,Loader=yaml.FullLoader)\n",
    "    l1 = doc[\"Solution\"][1][\"Variable\"]\n",
    "    l1 = list(l1.items())\n",
    "    \n",
    "# positive flows:    \n",
    "for i in l1:\n",
    "    print(i[1][\"Value\"])\n"
   ]
  },
  {
   "cell_type": "markdown",
   "metadata": {},
   "source": [
    "### Interpretation"
   ]
  },
  {
   "cell_type": "markdown",
   "metadata": {},
   "source": [
    "This problem has a feasible solution. The solution found for the maximum flow *(objective function)* is **60**.\n",
    "\n",
    "The flow amounts across each arc are:\n",
    "\n",
    "$Arc$ | $Flow$ | $Capacity$ \n",
    " -------|---|----\n",
    "  $node 0$ --> $node 1$ | 20 | 20\n",
    "  $node 0$ --> $node 2$ | 30 | 30 \n",
    "  $node 0$ --> $node 3$ | 10 | 10\n",
    "  $node 1$ --> $node 2$ | 0  | 40 \n",
    "  $node 1$ --> $node 4$ | 20 | 30 \n",
    "  $node 2$ --> $node 3$ | 10 | 10 \n",
    "  $node 2$ --> $node 4$ | 20 | 20 \n",
    "  $node 3$ --> $node 2$ | 0  | 5 \n",
    "  $node 3$ --> $node 4$ | 20 | 20 \n",
    "  \n"
   ]
  },
  {
   "cell_type": "code",
   "execution_count": null,
   "metadata": {},
   "outputs": [],
   "source": []
  }
 ],
 "metadata": {
  "kernelspec": {
   "display_name": "Python 3.10.6 ('Optimization')",
   "language": "python",
   "name": "python3"
  },
  "language_info": {
   "codemirror_mode": {
    "name": "ipython",
    "version": 3
   },
   "file_extension": ".py",
   "mimetype": "text/x-python",
   "name": "python",
   "nbconvert_exporter": "python",
   "pygments_lexer": "ipython3",
   "version": "3.10.6"
  },
  "vscode": {
   "interpreter": {
    "hash": "a0854eb55a42fa7114ab583faf0ea91550204cf8598f4fab438ea0a31a8e4e75"
   }
  }
 },
 "nbformat": 4,
 "nbformat_minor": 2
}
