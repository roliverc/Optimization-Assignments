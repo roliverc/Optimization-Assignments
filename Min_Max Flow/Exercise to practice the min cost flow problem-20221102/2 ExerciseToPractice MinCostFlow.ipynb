{
 "cells": [
  {
   "cell_type": "markdown",
   "metadata": {},
   "source": [
    "![uc3m](uc3m.jpg)"
   ]
  },
  {
   "cell_type": "markdown",
   "metadata": {},
   "source": [
    "# The min cost flow problem\n",
    "\n",
    "<a href=\"http://www.est.uc3m.es/nogales\" target=\"_blank\">Javier Nogales</a>\n",
    "\n"
   ]
  },
  {
   "cell_type": "markdown",
   "metadata": {},
   "source": [
    "## Summary\n",
    "\n",
    "Model in Pyomo the min cost flow problem in the Google OR-Tools: https://developers.google.com/optimization/flow/mincostflow\n",
    "\n",
    "![uc3m](mincostflow.png)\n",
    "\n",
    "\n",
    "\n",
    "    \n",
    "\n",
    "\n",
    "\n",
    "\n"
   ]
  },
  {
   "cell_type": "markdown",
   "metadata": {},
   "source": [
    "### Add here the formulation of the problem, including the vector cost and the incidence matrix\n",
    "\n",
    "You need to solve the problem using the linear-model formulation, i.e. minimize $c'x$ subject to $Ax=b$ and $l\\leq x \\leq u$ \n"
   ]
  },
  {
   "cell_type": "markdown",
   "metadata": {},
   "source": [
    "## Formulation with Pyomo\n",
    "\n"
   ]
  },
  {
   "cell_type": "markdown",
   "metadata": {},
   "source": [
    "### The data\n",
    "\n"
   ]
  },
  {
   "cell_type": "code",
   "execution_count": 1,
   "metadata": {},
   "outputs": [],
   "source": [
    "import numpy as np\n",
    "\n",
    "# The input\n",
    "\n",
    "start_nodes = [ 0, 0,  1, 1,  1,  2, 2,  3, 4]\n",
    "end_nodes   = [ 1, 2,  2, 3,  4,  3, 4,  4, 2]\n",
    "capacities  = [15, 8, 20, 4, 10, 15, 4, 20, 5]\n",
    "unit_costs  = [ 4, 4,  2, 2,  6,  1, 3,  2, 3]\n",
    "supplies = [20, 0, 0, -5, -15]\n",
    "\n",
    "# Incidence matrix (manual form)\n",
    "\n",
    "#               01 02 12 13 14 23 24  34 42\n",
    "# A = np.array([[1, 1, 0, 0, 0, 0, 0, 0, 0], # 0\n",
    "#               [-1,0, 1, 1, 1, 0, 0, 0, 0], # 1\n",
    "#               [0,-1,-1, 0, 0, 1, 1, 0,-1], # 2\n",
    "#               [0, 0, 0,-1, 0,-1, 0, 1, 0], # 3\n",
    "#               [0, 0, 0, 0,-1, 0,-1,-1, 1], # 4\n",
    "#              ])\n",
    "\n",
    "# Incidence matrix (automatic form)\n",
    "A = np.zeros((len(supplies),len(start_nodes)))\n",
    "def generateA (A,start_nodes,end_nodes):\n",
    "    count = 0\n",
    "    for i in zip(start_nodes,end_nodes):\n",
    "        A[i[0]][count] = 1\n",
    "        A[i[1]][count] = -1\n",
    "        count+=1\n",
    "\n",
    "generateA (A,start_nodes,end_nodes)\n",
    "c=np.array(unit_costs)\n",
    "b=np.array(supplies)"
   ]
  },
  {
   "cell_type": "markdown",
   "metadata": {},
   "source": [
    "### The model"
   ]
  },
  {
   "cell_type": "code",
   "execution_count": 2,
   "metadata": {},
   "outputs": [
    {
     "name": "stdout",
     "output_type": "stream",
     "text": [
      "r : Size=1, Index=None, Ordered=Insertion\n",
      "    Key  : Dimen : Domain : Size : Members\n",
      "    None :     1 :    Any :    5 : {0, 1, 2, 3, 4}\n",
      "j : Size=1, Index=None, Ordered=Insertion\n",
      "    Key  : Dimen : Domain : Size : Members\n",
      "    None :     1 :    Any :    9 : {0, 1, 2, 3, 4, 5, 6, 7, 8}\n",
      "len(model.r)=5\n",
      "len(model.j)=9\n"
     ]
    }
   ],
   "source": [
    "from pyomo.environ import *\n",
    "\n",
    "# Create an instance of the model\n",
    "model = ConcreteModel()\n",
    "\n",
    "# Initialize some ranges for the constraint and Objective definition \n",
    "#model.r = RangeSet(1,len(A))\n",
    "#model.j = RangeSet(1,len(A.T))\n",
    "\n",
    "r_labels = [r for r in range(len(A))]\n",
    "j_labels = [j for j in range(len(A.T))]\n",
    "\n",
    "model.r = Set(initialize = r_labels)\n",
    "model.j = Set(initialize = j_labels)\n",
    "\n",
    "#model.r = RangeSet(0,len(A)-1)\n",
    "#model.j = RangeSet(0,len(A.T)-1)\n",
    "\n",
    "model.r.pprint()\n",
    "model.j.pprint()\n",
    "\n",
    "print(f\"{len(model.r)=}\")\n",
    "print(f\"{len(model.j)=}\")"
   ]
  },
  {
   "cell_type": "markdown",
   "metadata": {},
   "source": [
    "#### Define the variables"
   ]
  },
  {
   "cell_type": "code",
   "execution_count": 3,
   "metadata": {},
   "outputs": [
    {
     "name": "stdout",
     "output_type": "stream",
     "text": [
      "flow : Size=9, Index=j\n",
      "    Key : Lower : Value : Upper : Fixed : Stale : Domain\n",
      "      0 :     0 :  None :  None : False :  True : NonNegativeReals\n",
      "      1 :     0 :  None :  None : False :  True : NonNegativeReals\n",
      "      2 :     0 :  None :  None : False :  True : NonNegativeReals\n",
      "      3 :     0 :  None :  None : False :  True : NonNegativeReals\n",
      "      4 :     0 :  None :  None : False :  True : NonNegativeReals\n",
      "      5 :     0 :  None :  None : False :  True : NonNegativeReals\n",
      "      6 :     0 :  None :  None : False :  True : NonNegativeReals\n",
      "      7 :     0 :  None :  None : False :  True : NonNegativeReals\n",
      "      8 :     0 :  None :  None : False :  True : NonNegativeReals\n"
     ]
    }
   ],
   "source": [
    "model.flow = Var(model.j, within = NonNegativeReals)\n",
    "model.flow.pprint()"
   ]
  },
  {
   "cell_type": "markdown",
   "metadata": {},
   "source": [
    "#### Define the objective function"
   ]
  },
  {
   "cell_type": "code",
   "execution_count": 4,
   "metadata": {},
   "outputs": [
    {
     "name": "stdout",
     "output_type": "stream",
     "text": [
      "objective : Size=1, Index=None, Active=True\n",
      "    Key  : Active : Sense    : Expression\n",
      "    None :   True : minimize : 4*flow[0] + 4*flow[1] + 2*flow[2] + 2*flow[3] + 6*flow[4] + flow[5] + 3*flow[6] + 2*flow[7] + 3*flow[8]\n"
     ]
    }
   ],
   "source": [
    "def objective(model):\n",
    "    return sum(c[j]*model.flow[j] for j in model.j)\n",
    "\n",
    "model.objective = Objective(rule=objective,sense=minimize)\n",
    "model.objective.pprint()"
   ]
  },
  {
   "cell_type": "code",
   "execution_count": 5,
   "metadata": {},
   "outputs": [
    {
     "name": "stdout",
     "output_type": "stream",
     "text": [
      "flow_balance : Size=45, Index=flow_balance_index, Active=True\n",
      "    Key    : Lower : Body                                              : Upper : Active\n",
      "    (0, 0) :  20.0 :                                 flow[0] + flow[1] :  20.0 :   True\n",
      "    (0, 1) :  20.0 :                                 flow[0] + flow[1] :  20.0 :   True\n",
      "    (0, 2) :  20.0 :                                 flow[0] + flow[1] :  20.0 :   True\n",
      "    (0, 3) :  20.0 :                                 flow[0] + flow[1] :  20.0 :   True\n",
      "    (0, 4) :  20.0 :                                 flow[0] + flow[1] :  20.0 :   True\n",
      "    (0, 5) :  20.0 :                                 flow[0] + flow[1] :  20.0 :   True\n",
      "    (0, 6) :  20.0 :                                 flow[0] + flow[1] :  20.0 :   True\n",
      "    (0, 7) :  20.0 :                                 flow[0] + flow[1] :  20.0 :   True\n",
      "    (0, 8) :  20.0 :                                 flow[0] + flow[1] :  20.0 :   True\n",
      "    (1, 0) :   0.0 :           - flow[0] + flow[2] + flow[3] + flow[4] :   0.0 :   True\n",
      "    (1, 1) :   0.0 :           - flow[0] + flow[2] + flow[3] + flow[4] :   0.0 :   True\n",
      "    (1, 2) :   0.0 :           - flow[0] + flow[2] + flow[3] + flow[4] :   0.0 :   True\n",
      "    (1, 3) :   0.0 :           - flow[0] + flow[2] + flow[3] + flow[4] :   0.0 :   True\n",
      "    (1, 4) :   0.0 :           - flow[0] + flow[2] + flow[3] + flow[4] :   0.0 :   True\n",
      "    (1, 5) :   0.0 :           - flow[0] + flow[2] + flow[3] + flow[4] :   0.0 :   True\n",
      "    (1, 6) :   0.0 :           - flow[0] + flow[2] + flow[3] + flow[4] :   0.0 :   True\n",
      "    (1, 7) :   0.0 :           - flow[0] + flow[2] + flow[3] + flow[4] :   0.0 :   True\n",
      "    (1, 8) :   0.0 :           - flow[0] + flow[2] + flow[3] + flow[4] :   0.0 :   True\n",
      "    (2, 0) :   0.0 : - flow[1] - flow[2] + flow[5] + flow[6] - flow[8] :   0.0 :   True\n",
      "    (2, 1) :   0.0 : - flow[1] - flow[2] + flow[5] + flow[6] - flow[8] :   0.0 :   True\n",
      "    (2, 2) :   0.0 : - flow[1] - flow[2] + flow[5] + flow[6] - flow[8] :   0.0 :   True\n",
      "    (2, 3) :   0.0 : - flow[1] - flow[2] + flow[5] + flow[6] - flow[8] :   0.0 :   True\n",
      "    (2, 4) :   0.0 : - flow[1] - flow[2] + flow[5] + flow[6] - flow[8] :   0.0 :   True\n",
      "    (2, 5) :   0.0 : - flow[1] - flow[2] + flow[5] + flow[6] - flow[8] :   0.0 :   True\n",
      "    (2, 6) :   0.0 : - flow[1] - flow[2] + flow[5] + flow[6] - flow[8] :   0.0 :   True\n",
      "    (2, 7) :   0.0 : - flow[1] - flow[2] + flow[5] + flow[6] - flow[8] :   0.0 :   True\n",
      "    (2, 8) :   0.0 : - flow[1] - flow[2] + flow[5] + flow[6] - flow[8] :   0.0 :   True\n",
      "    (3, 0) :  -5.0 :                     - flow[3] - flow[5] + flow[7] :  -5.0 :   True\n",
      "    (3, 1) :  -5.0 :                     - flow[3] - flow[5] + flow[7] :  -5.0 :   True\n",
      "    (3, 2) :  -5.0 :                     - flow[3] - flow[5] + flow[7] :  -5.0 :   True\n",
      "    (3, 3) :  -5.0 :                     - flow[3] - flow[5] + flow[7] :  -5.0 :   True\n",
      "    (3, 4) :  -5.0 :                     - flow[3] - flow[5] + flow[7] :  -5.0 :   True\n",
      "    (3, 5) :  -5.0 :                     - flow[3] - flow[5] + flow[7] :  -5.0 :   True\n",
      "    (3, 6) :  -5.0 :                     - flow[3] - flow[5] + flow[7] :  -5.0 :   True\n",
      "    (3, 7) :  -5.0 :                     - flow[3] - flow[5] + flow[7] :  -5.0 :   True\n",
      "    (3, 8) :  -5.0 :                     - flow[3] - flow[5] + flow[7] :  -5.0 :   True\n",
      "    (4, 0) : -15.0 :           - flow[4] - flow[6] - flow[7] + flow[8] : -15.0 :   True\n",
      "    (4, 1) : -15.0 :           - flow[4] - flow[6] - flow[7] + flow[8] : -15.0 :   True\n",
      "    (4, 2) : -15.0 :           - flow[4] - flow[6] - flow[7] + flow[8] : -15.0 :   True\n",
      "    (4, 3) : -15.0 :           - flow[4] - flow[6] - flow[7] + flow[8] : -15.0 :   True\n",
      "    (4, 4) : -15.0 :           - flow[4] - flow[6] - flow[7] + flow[8] : -15.0 :   True\n",
      "    (4, 5) : -15.0 :           - flow[4] - flow[6] - flow[7] + flow[8] : -15.0 :   True\n",
      "    (4, 6) : -15.0 :           - flow[4] - flow[6] - flow[7] + flow[8] : -15.0 :   True\n",
      "    (4, 7) : -15.0 :           - flow[4] - flow[6] - flow[7] + flow[8] : -15.0 :   True\n",
      "    (4, 8) : -15.0 :           - flow[4] - flow[6] - flow[7] + flow[8] : -15.0 :   True\n"
     ]
    }
   ],
   "source": [
    "def flow_balance(model, r, j):\n",
    "    return sum([A[r][j]*model.flow[j] for j in model.j]) == b[r]\n",
    "\n",
    "model.flow_balance = Constraint(model.r, model.j, rule=flow_balance)\n",
    "model.flow_balance.pprint()"
   ]
  },
  {
   "cell_type": "code",
   "execution_count": 6,
   "metadata": {},
   "outputs": [
    {
     "name": "stdout",
     "output_type": "stream",
     "text": [
      "max_capacities : Size=9, Index=max_capacities_index, Active=True\n",
      "    Key : Lower : Body    : Upper : Active\n",
      "      1 :  -Inf : flow[0] :  15.0 :   True\n",
      "      2 :  -Inf : flow[1] :   8.0 :   True\n",
      "      3 :  -Inf : flow[2] :  20.0 :   True\n",
      "      4 :  -Inf : flow[3] :   4.0 :   True\n",
      "      5 :  -Inf : flow[4] :  10.0 :   True\n",
      "      6 :  -Inf : flow[5] :  15.0 :   True\n",
      "      7 :  -Inf : flow[6] :   4.0 :   True\n",
      "      8 :  -Inf : flow[7] :  20.0 :   True\n",
      "      9 :  -Inf : flow[8] :   5.0 :   True\n"
     ]
    }
   ],
   "source": [
    "def max_capacities(model, constraintList):\n",
    "    for j, c in enumerate(capacities):\n",
    "        constraintList.add(expr = model.flow[j] <= c)\n",
    "    constraintList.pprint()\n",
    "\n",
    "model.max_capacities = ConstraintList()\n",
    "max_capacities(model, model.max_capacities)"
   ]
  },
  {
   "cell_type": "code",
   "execution_count": 7,
   "metadata": {},
   "outputs": [
    {
     "name": "stdout",
     "output_type": "stream",
     "text": [
      "Model unknown\n",
      "\n",
      "  Variables:\n",
      "    flow : Size=9, Index=j\n",
      "        Key : Lower : Value : Upper : Fixed : Stale : Domain\n",
      "          0 :     0 :  12.0 :  None : False : False : NonNegativeReals\n",
      "          1 :     0 :   8.0 :  None : False : False : NonNegativeReals\n",
      "          2 :     0 :   8.0 :  None : False : False : NonNegativeReals\n",
      "          3 :     0 :   4.0 :  None : False : False : NonNegativeReals\n",
      "          4 :     0 :   0.0 :  None : False : False : NonNegativeReals\n",
      "          5 :     0 :  12.0 :  None : False : False : NonNegativeReals\n",
      "          6 :     0 :   4.0 :  None : False : False : NonNegativeReals\n",
      "          7 :     0 :  11.0 :  None : False : False : NonNegativeReals\n",
      "          8 :     0 :   0.0 :  None : False : False : NonNegativeReals\n",
      "\n",
      "  Objectives:\n",
      "    objective : Size=1, Index=None, Active=True\n",
      "        Key  : Active : Value\n",
      "        None :   True : 150.0\n",
      "\n",
      "  Constraints:\n",
      "    flow_balance : Size=45\n",
      "        Key    : Lower : Body  : Upper\n",
      "        (0, 0) :  20.0 :  20.0 :  20.0\n",
      "        (0, 1) :  20.0 :  20.0 :  20.0\n",
      "        (0, 2) :  20.0 :  20.0 :  20.0\n",
      "        (0, 3) :  20.0 :  20.0 :  20.0\n",
      "        (0, 4) :  20.0 :  20.0 :  20.0\n",
      "        (0, 5) :  20.0 :  20.0 :  20.0\n",
      "        (0, 6) :  20.0 :  20.0 :  20.0\n",
      "        (0, 7) :  20.0 :  20.0 :  20.0\n",
      "        (0, 8) :  20.0 :  20.0 :  20.0\n",
      "        (1, 0) :   0.0 :   0.0 :   0.0\n",
      "        (1, 1) :   0.0 :   0.0 :   0.0\n",
      "        (1, 2) :   0.0 :   0.0 :   0.0\n",
      "        (1, 3) :   0.0 :   0.0 :   0.0\n",
      "        (1, 4) :   0.0 :   0.0 :   0.0\n",
      "        (1, 5) :   0.0 :   0.0 :   0.0\n",
      "        (1, 6) :   0.0 :   0.0 :   0.0\n",
      "        (1, 7) :   0.0 :   0.0 :   0.0\n",
      "        (1, 8) :   0.0 :   0.0 :   0.0\n",
      "        (2, 0) :   0.0 :   0.0 :   0.0\n",
      "        (2, 1) :   0.0 :   0.0 :   0.0\n",
      "        (2, 2) :   0.0 :   0.0 :   0.0\n",
      "        (2, 3) :   0.0 :   0.0 :   0.0\n",
      "        (2, 4) :   0.0 :   0.0 :   0.0\n",
      "        (2, 5) :   0.0 :   0.0 :   0.0\n",
      "        (2, 6) :   0.0 :   0.0 :   0.0\n",
      "        (2, 7) :   0.0 :   0.0 :   0.0\n",
      "        (2, 8) :   0.0 :   0.0 :   0.0\n",
      "        (3, 0) :  -5.0 :  -5.0 :  -5.0\n",
      "        (3, 1) :  -5.0 :  -5.0 :  -5.0\n",
      "        (3, 2) :  -5.0 :  -5.0 :  -5.0\n",
      "        (3, 3) :  -5.0 :  -5.0 :  -5.0\n",
      "        (3, 4) :  -5.0 :  -5.0 :  -5.0\n",
      "        (3, 5) :  -5.0 :  -5.0 :  -5.0\n",
      "        (3, 6) :  -5.0 :  -5.0 :  -5.0\n",
      "        (3, 7) :  -5.0 :  -5.0 :  -5.0\n",
      "        (3, 8) :  -5.0 :  -5.0 :  -5.0\n",
      "        (4, 0) : -15.0 : -15.0 : -15.0\n",
      "        (4, 1) : -15.0 : -15.0 : -15.0\n",
      "        (4, 2) : -15.0 : -15.0 : -15.0\n",
      "        (4, 3) : -15.0 : -15.0 : -15.0\n",
      "        (4, 4) : -15.0 : -15.0 : -15.0\n",
      "        (4, 5) : -15.0 : -15.0 : -15.0\n",
      "        (4, 6) : -15.0 : -15.0 : -15.0\n",
      "        (4, 7) : -15.0 : -15.0 : -15.0\n",
      "        (4, 8) : -15.0 : -15.0 : -15.0\n",
      "    max_capacities : Size=9\n",
      "        Key : Lower : Body : Upper\n",
      "          1 :  None : 12.0 :  15.0\n",
      "          2 :  None :  8.0 :   8.0\n",
      "          3 :  None :  8.0 :  20.0\n",
      "          4 :  None :  4.0 :   4.0\n",
      "          5 :  None :  0.0 :  10.0\n",
      "          6 :  None : 12.0 :  15.0\n",
      "          7 :  None :  4.0 :   4.0\n",
      "          8 :  None : 11.0 :  20.0\n",
      "          9 :  None :  0.0 :   5.0\n"
     ]
    }
   ],
   "source": [
    "# Solution\n",
    "\n",
    "Solver = SolverFactory('gurobi')\n",
    "#Solver.options['DualReductions'] = 0\n",
    "Results = Solver.solve(model)\n",
    "\n",
    "# Display the results\n",
    "model.display()\n"
   ]
  },
  {
   "cell_type": "markdown",
   "metadata": {},
   "source": [
    "### Interpretation\n",
    "\n"
   ]
  },
  {
   "cell_type": "markdown",
   "metadata": {},
   "source": [
    "The minimum-cost flow problem is one of the most important problems in network optimization and it has many applications and can be thought as being one of building blocks of more complex models.\n",
    "\n",
    "This problem is particularly interesting as for a balanced network (the sum of supplies is equal to the sum of demand), where all values in the network are integers, is guaranteed to have an integer solution. This is a consequence of the fact that the incidence matrix $A$ of the problem is unimodular, with $det(A) = \\pm 1$, then $Ax = b$ with $M$ and $b$ having integer entries means that $x \\in \\mathbb{Z}$.\n",
    "\n",
    "In this particular problem supply nodes had $b_r > 0$, intermediate ones had $b_r=0$ and requiring nodes had $b_r < 0$. This is one of the differences between the minimum-cost flow problem and the transportation one: the latter does not have intermediate nodes.\n",
    "\n",
    "In this problem it is necessary to minimize the total cost of the flow, so we write:"
   ]
  }
 ],
 "metadata": {
  "kernelspec": {
   "display_name": "Python 3.10.6 ('Optimization')",
   "language": "python",
   "name": "python3"
  },
  "language_info": {
   "codemirror_mode": {
    "name": "ipython",
    "version": 3
   },
   "file_extension": ".py",
   "mimetype": "text/x-python",
   "name": "python",
   "nbconvert_exporter": "python",
   "pygments_lexer": "ipython3",
   "version": "3.10.6"
  },
  "vscode": {
   "interpreter": {
    "hash": "a0854eb55a42fa7114ab583faf0ea91550204cf8598f4fab438ea0a31a8e4e75"
   }
  }
 },
 "nbformat": 4,
 "nbformat_minor": 2
}
