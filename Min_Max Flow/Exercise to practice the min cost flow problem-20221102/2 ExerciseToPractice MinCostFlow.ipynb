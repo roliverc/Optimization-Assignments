{
 "cells": [
  {
   "cell_type": "markdown",
   "metadata": {},
   "source": [
    "![uc3m](uc3m.jpg)"
   ]
  },
  {
   "cell_type": "markdown",
   "metadata": {},
   "source": [
    "# The min cost flow problem\n",
    "\n",
    "<a href=\"http://www.est.uc3m.es/nogales\" target=\"_blank\">Javier Nogales</a>\n",
    "\n"
   ]
  },
  {
   "cell_type": "markdown",
   "metadata": {},
   "source": [
    "## Summary\n",
    "\n",
    "Model in Pyomo the min cost flow problem in the Google OR-Tools: https://developers.google.com/optimization/flow/mincostflow\n",
    "\n",
    "![uc3m](mincostflow.png)\n",
    "\n",
    "\n",
    "\n",
    "    \n",
    "\n",
    "\n",
    "\n",
    "\n"
   ]
  },
  {
   "cell_type": "markdown",
   "metadata": {},
   "source": [
    "### Add here the formulation of the problem, including the vector cost and the incidence matrix\n",
    "\n",
    "You need to solve the problem using the linear-model formulation, i.e. minimize $c'x$ subject to $Ax=b$ and $l\\leq x \\leq u$ \n"
   ]
  },
  {
   "cell_type": "markdown",
   "metadata": {},
   "source": [
    "## Formulation with Pyomo\n",
    "\n"
   ]
  },
  {
   "cell_type": "markdown",
   "metadata": {},
   "source": [
    "### The data\n",
    "\n"
   ]
  },
  {
   "cell_type": "code",
   "execution_count": null,
   "metadata": {},
   "outputs": [],
   "source": [
    "import numpy as np\n",
    "\n",
    "# The input\n",
    "\n",
    "start_nodes = [ 0, 0,  1, 1,  1,  2, 2,  3, 4]\n",
    "end_nodes   = [ 1, 2,  2, 3,  4,  3, 4,  4, 2]\n",
    "capacities  = [15, 8, 20, 4, 10, 15, 4, 20, 5]\n",
    "unit_costs  = [ 4, 4,  2, 2,  6,  1, 3,  2, 3]\n",
    "supplies = [20, 0, 0, -5, -15]\n",
    "\n",
    "# Incidence matrix (manual form)\n",
    "\n",
    "#               01 02 12 13 14 23 24  34 42\n",
    "# A = np.array([[1, 1, 0, 0, 0, 0, 0, 0, 0], # 0\n",
    "#               [-1,0, 1, 1, 1, 0, 0, 0, 0], # 1\n",
    "#               [0,-1,-1, 0, 0, 1, 1, 0,-1], # 2 \n",
    "#               [0, 0, 0,-1, 0,-1, 0, 1, 0], # 3\n",
    "#               [0, 0, 0, 0,-1, 0,-1,-1, 1], # 4 \n",
    "#              ])\n",
    "\n",
    "# Incidence matrix (automatic form)\n",
    "A = np.zeros((len(supplies),len(start_nodes)))\n",
    "def generateA (A,start_nodes,end_nodes):\n",
    "    count = 0\n",
    "    for i in zip(start_nodes,end_nodes):\n",
    "        A[i[0]][count] = 1\n",
    "        A[i[1]][count] = -1\n",
    "        count+=1\n",
    "\n",
    "generateA (A,start_nodes,end_nodes)   \n",
    "c=np.array(unit_costs)\n",
    "b=np.array(supplies)\n",
    "\n",
    "\n",
    "\n"
   ]
  },
  {
   "cell_type": "markdown",
   "metadata": {},
   "source": [
    "### The model"
   ]
  },
  {
   "cell_type": "code",
   "execution_count": null,
   "metadata": {},
   "outputs": [],
   "source": [
    "from pyomo.environ import *\n",
    "\n",
    "# Create an instance of the model\n",
    "model = ConcreteModel()\n",
    "\n",
    "# Initialize some ranges for the constraint and Objective definition \n",
    "model.r = RangeSet(1,len(A))\n",
    "model.j = RangeSet(1,len(A.T))\n",
    "\n",
    " \n"
   ]
  },
  {
   "cell_type": "code",
   "execution_count": null,
   "metadata": {},
   "outputs": [],
   "source": [
    "# Solution\n",
    "\n"
   ]
  },
  {
   "cell_type": "markdown",
   "metadata": {},
   "source": [
    "### Interpretation\n",
    "\n"
   ]
  }
 ],
 "metadata": {
  "kernelspec": {
   "display_name": "Python 3",
   "language": "python",
   "name": "python3"
  },
  "language_info": {
   "codemirror_mode": {
    "name": "ipython",
    "version": 3
   },
   "file_extension": ".py",
   "mimetype": "text/x-python",
   "name": "python",
   "nbconvert_exporter": "python",
   "pygments_lexer": "ipython3",
   "version": "3.7.4"
  }
 },
 "nbformat": 4,
 "nbformat_minor": 2
}
